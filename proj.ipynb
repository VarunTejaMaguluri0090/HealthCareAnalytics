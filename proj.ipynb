{
 "cells": [
  {
   "cell_type": "code",
   "execution_count": 6,
   "id": "2ad59f42-a065-40cd-b75b-d294cac0ad5e",
   "metadata": {},
   "outputs": [
    {
     "name": "stderr",
     "output_type": "stream",
     "text": [
      "Downloading...\n",
      "From: https://drive.google.com/uc?id=1v1QNSwEJX0x1y5P4nFEkHlixKz0E1iQp\n",
      "To: C:\\Users\\kundu\\Documents\\usproj\\pima-indians-diabetes.csv\n",
      "100%|█████████████████████████████████████████████████████████████████████████████| 10.9k/10.9k [00:00<00:00, 10.3MB/s]"
     ]
    },
    {
     "name": "stdout",
     "output_type": "stream",
     "text": [
      "Accuracy: 0.9074074074074074\n",
      "              precision    recall  f1-score   support\n",
      "\n",
      "           1       0.91      0.94      0.93        33\n",
      "           2       0.90      0.86      0.88        21\n",
      "\n",
      "    accuracy                           0.91        54\n",
      "   macro avg       0.91      0.90      0.90        54\n",
      "weighted avg       0.91      0.91      0.91        54\n",
      "\n",
      "file generated\n"
     ]
    },
    {
     "name": "stderr",
     "output_type": "stream",
     "text": [
      "\n"
     ]
    }
   ],
   "source": [
    "import numpy as np\n",
    "import pandas as pd\n",
    "from sklearn.model_selection import train_test_split\n",
    "from sklearn.preprocessing import StandardScaler\n",
    "from sklearn.linear_model import LogisticRegression\n",
    "from sklearn.metrics import accuracy_score, classification_report\n",
    "import gdown\n",
    "import pickle\n",
    "\n",
    "\n",
    "columns = [\"PatientID\", \"Age\", \"Sex\", \"ChestPainType\", \"BloodPressure\", \"Cholesterol\", \"BloodSugar\", \"EC_Results\", \"MaxHeartRate\", \"Angina\", \"OldPeak\", \"PeakSlope\", \"MajorVessels\", \"Thal\", \"Outcome\"]\n",
    "\n",
    "\n",
    "url = \"https://drive.google.com/uc?id=1v1QNSwEJX0x1y5P4nFEkHlixKz0E1iQp\"\n",
    "output_file = \"pima-indians-diabetes.csv\"\n",
    "gdown.download(url, output_file, quiet=False)\n",
    "\n",
    "\n",
    "data = pd.read_csv(output_file, skiprows=1, names=columns)\n",
    "\n",
    "\n",
    "X = data.drop(\"Outcome\", axis=1)\n",
    "y = data[\"Outcome\"]\n",
    "\n",
    "\n",
    "X_train, X_test, y_train, y_test = train_test_split(X, y, test_size=0.2, random_state=42)\n",
    "\n",
    "\n",
    "scaler = StandardScaler()\n",
    "X_train = scaler.fit_transform(X_train)\n",
    "X_test = scaler.transform(X_test)\n",
    "\n",
    "\n",
    "healthbot_model = LogisticRegression()\n",
    "healthbot_model.fit(X_train, y_train)\n",
    "\n",
    "\n",
    "y_pred = healthbot_model.predict(X_test)\n",
    "\n",
    "\n",
    "accuracy = accuracy_score(y_test, y_pred)\n",
    "report = classification_report(y_test, y_pred)\n",
    "\n",
    "print(f\"Accuracy: {accuracy}\")\n",
    "print(report)\n",
    "\n",
    "with open(r'C:\\Users\\kundu\\Documents\\usproj\\healthbot_model.pkl','wb') as file: \n",
    "    pickle.dump(healthbot_model, file)\n",
    "    print(\"file generated\")\n",
    "\n"
   ]
  },
  {
   "cell_type": "code",
   "execution_count": null,
   "id": "90a9b7bc-b54f-445d-a17d-e9b2c3003086",
   "metadata": {},
   "outputs": [],
   "source": []
  }
 ],
 "metadata": {
  "kernelspec": {
   "display_name": "Python 3 (ipykernel)",
   "language": "python",
   "name": "python3"
  },
  "language_info": {
   "codemirror_mode": {
    "name": "ipython",
    "version": 3
   },
   "file_extension": ".py",
   "mimetype": "text/x-python",
   "name": "python",
   "nbconvert_exporter": "python",
   "pygments_lexer": "ipython3",
   "version": "3.11.4"
  }
 },
 "nbformat": 4,
 "nbformat_minor": 5
}
